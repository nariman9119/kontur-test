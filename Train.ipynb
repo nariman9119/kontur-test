{
 "cells": [
  {
   "cell_type": "code",
   "execution_count": 32,
   "metadata": {
    "colab": {
     "base_uri": "https://localhost:8080/",
     "height": 52
    },
    "colab_type": "code",
    "id": "fDYAYoarw5bn",
    "outputId": "d787407e-a2f5-402f-ad5b-6e2dd071db9f"
   },
   "outputs": [
    {
     "name": "stdout",
     "output_type": "stream",
     "text": [
      "[nltk_data] Downloading package stopwords to /root/nltk_data...\n",
      "[nltk_data]   Package stopwords is already up-to-date!\n"
     ]
    }
   ],
   "source": [
    "import pandas as pd\n",
    "import numpy as np\n",
    "\n",
    "import re\n",
    "import string\n",
    "\n",
    "import requests\n",
    "\n",
    "import nltk\n",
    "from nltk.tokenize import WordPunctTokenizer\n",
    "from nltk.corpus import stopwords\n",
    "nltk.download('stopwords')\n",
    "from sklearn.model_selection import train_test_split\n",
    "\n",
    "from joblib import dump, load\n",
    "\n",
    "# pip install transliterate\n",
    "from transliterate import translit, get_available_language_codes\n"
   ]
  },
  {
   "cell_type": "code",
   "execution_count": 14,
   "metadata": {
    "colab": {
     "base_uri": "https://localhost:8080/",
     "height": 197
    },
    "colab_type": "code",
    "id": "Ofk383F8xCEQ",
    "outputId": "1b4b9b87-9f21-4c33-f85c-60360df9f789"
   },
   "outputs": [
    {
     "data": {
      "text/html": [
       "<div>\n",
       "<style scoped>\n",
       "    .dataframe tbody tr th:only-of-type {\n",
       "        vertical-align: middle;\n",
       "    }\n",
       "\n",
       "    .dataframe tbody tr th {\n",
       "        vertical-align: top;\n",
       "    }\n",
       "\n",
       "    .dataframe thead th {\n",
       "        text-align: right;\n",
       "    }\n",
       "</style>\n",
       "<table border=\"1\" class=\"dataframe\">\n",
       "  <thead>\n",
       "    <tr style=\"text-align: right;\">\n",
       "      <th></th>\n",
       "      <th>Unnamed: 0</th>\n",
       "      <th>ru_name</th>\n",
       "      <th>eng_name</th>\n",
       "      <th>answer</th>\n",
       "    </tr>\n",
       "  </thead>\n",
       "  <tbody>\n",
       "    <tr>\n",
       "      <th>0</th>\n",
       "      <td>0</td>\n",
       "      <td>Общество с ограниченной ответственностью \"ЕВА\"</td>\n",
       "      <td>\"Langford Travel\"</td>\n",
       "      <td>False</td>\n",
       "    </tr>\n",
       "    <tr>\n",
       "      <th>1</th>\n",
       "      <td>1</td>\n",
       "      <td>Общество с ограниченной ответственностью \"ФОРВ...</td>\n",
       "      <td>AMARA</td>\n",
       "      <td>False</td>\n",
       "    </tr>\n",
       "    <tr>\n",
       "      <th>2</th>\n",
       "      <td>2</td>\n",
       "      <td>ООО \"Меллита\"</td>\n",
       "      <td>\"MAX-TRANS\" Limited liability company</td>\n",
       "      <td>False</td>\n",
       "    </tr>\n",
       "    <tr>\n",
       "      <th>3</th>\n",
       "      <td>3</td>\n",
       "      <td>ЗАКРЫТОЕ АКЦИОНЕРНОЕ ОБЩЕСТВО \"ПЕТОЙЛ\" (открыт...</td>\n",
       "      <td>\"Computational Technologies\" Ltd</td>\n",
       "      <td>False</td>\n",
       "    </tr>\n",
       "    <tr>\n",
       "      <th>4</th>\n",
       "      <td>4</td>\n",
       "      <td>Общество с ограниченной ответственностью \"Конц...</td>\n",
       "      <td>\"Ad.Arty\"</td>\n",
       "      <td>False</td>\n",
       "    </tr>\n",
       "  </tbody>\n",
       "</table>\n",
       "</div>"
      ],
      "text/plain": [
       "   Unnamed: 0  ... answer\n",
       "0           0  ...  False\n",
       "1           1  ...  False\n",
       "2           2  ...  False\n",
       "3           3  ...  False\n",
       "4           4  ...  False\n",
       "\n",
       "[5 rows x 4 columns]"
      ]
     },
     "execution_count": 14,
     "metadata": {
      "tags": []
     },
     "output_type": "execute_result"
    }
   ],
   "source": [
    "train = pd.read_csv('data/train_data.tsv', sep='\\t')\n",
    "train.head()"
   ]
  },
  {
   "cell_type": "code",
   "execution_count": 15,
   "metadata": {
    "colab": {
     "base_uri": "https://localhost:8080/",
     "height": 197
    },
    "colab_type": "code",
    "id": "pZgIf8ktxRsB",
    "outputId": "5e99aa95-9932-4bd2-cdfc-75ee6eea1009"
   },
   "outputs": [
    {
     "data": {
      "text/html": [
       "<div>\n",
       "<style scoped>\n",
       "    .dataframe tbody tr th:only-of-type {\n",
       "        vertical-align: middle;\n",
       "    }\n",
       "\n",
       "    .dataframe tbody tr th {\n",
       "        vertical-align: top;\n",
       "    }\n",
       "\n",
       "    .dataframe thead th {\n",
       "        text-align: right;\n",
       "    }\n",
       "</style>\n",
       "<table border=\"1\" class=\"dataframe\">\n",
       "  <thead>\n",
       "    <tr style=\"text-align: right;\">\n",
       "      <th></th>\n",
       "      <th>Unnamed: 0</th>\n",
       "      <th>ru_name</th>\n",
       "      <th>eng_name</th>\n",
       "      <th>answer</th>\n",
       "    </tr>\n",
       "  </thead>\n",
       "  <tbody>\n",
       "    <tr>\n",
       "      <th>0</th>\n",
       "      <td>0</td>\n",
       "      <td>общество с ограниченной ответственностью \"ева\"</td>\n",
       "      <td>\"langford travel\"</td>\n",
       "      <td>False</td>\n",
       "    </tr>\n",
       "    <tr>\n",
       "      <th>1</th>\n",
       "      <td>1</td>\n",
       "      <td>общество с ограниченной ответственностью \"форв...</td>\n",
       "      <td>amara</td>\n",
       "      <td>False</td>\n",
       "    </tr>\n",
       "    <tr>\n",
       "      <th>2</th>\n",
       "      <td>2</td>\n",
       "      <td>ооо \"меллита\"</td>\n",
       "      <td>\"max-trans\" limited liability company</td>\n",
       "      <td>False</td>\n",
       "    </tr>\n",
       "    <tr>\n",
       "      <th>3</th>\n",
       "      <td>3</td>\n",
       "      <td>закрытое акционерное общество \"петойл\" (открыт...</td>\n",
       "      <td>\"computational technologies\" ltd</td>\n",
       "      <td>False</td>\n",
       "    </tr>\n",
       "    <tr>\n",
       "      <th>4</th>\n",
       "      <td>4</td>\n",
       "      <td>общество с ограниченной ответственностью \"конц...</td>\n",
       "      <td>\"ad.arty\"</td>\n",
       "      <td>False</td>\n",
       "    </tr>\n",
       "  </tbody>\n",
       "</table>\n",
       "</div>"
      ],
      "text/plain": [
       "   Unnamed: 0  ... answer\n",
       "0           0  ...  False\n",
       "1           1  ...  False\n",
       "2           2  ...  False\n",
       "3           3  ...  False\n",
       "4           4  ...  False\n",
       "\n",
       "[5 rows x 4 columns]"
      ]
     },
     "execution_count": 15,
     "metadata": {
      "tags": []
     },
     "output_type": "execute_result"
    }
   ],
   "source": [
    "#Lowercase\n",
    "train['ru_name'] = train['ru_name'].str.lower()\n",
    "train['eng_name']= train['eng_name'].str.lower()\n",
    "\n",
    "train.head()"
   ]
  },
  {
   "cell_type": "code",
   "execution_count": 16,
   "metadata": {
    "colab": {
     "base_uri": "https://localhost:8080/",
     "height": 197
    },
    "colab_type": "code",
    "id": "oGMaWTmYxUTc",
    "outputId": "3cac6913-84b8-457c-d550-52523d0a4536"
   },
   "outputs": [
    {
     "data": {
      "text/html": [
       "<div>\n",
       "<style scoped>\n",
       "    .dataframe tbody tr th:only-of-type {\n",
       "        vertical-align: middle;\n",
       "    }\n",
       "\n",
       "    .dataframe tbody tr th {\n",
       "        vertical-align: top;\n",
       "    }\n",
       "\n",
       "    .dataframe thead th {\n",
       "        text-align: right;\n",
       "    }\n",
       "</style>\n",
       "<table border=\"1\" class=\"dataframe\">\n",
       "  <thead>\n",
       "    <tr style=\"text-align: right;\">\n",
       "      <th></th>\n",
       "      <th>Unnamed: 0</th>\n",
       "      <th>ru_name</th>\n",
       "      <th>eng_name</th>\n",
       "      <th>answer</th>\n",
       "    </tr>\n",
       "  </thead>\n",
       "  <tbody>\n",
       "    <tr>\n",
       "      <th>0</th>\n",
       "      <td>0</td>\n",
       "      <td>общество с ограниченной ответственностью  ева</td>\n",
       "      <td>langford travel</td>\n",
       "      <td>False</td>\n",
       "    </tr>\n",
       "    <tr>\n",
       "      <th>1</th>\n",
       "      <td>1</td>\n",
       "      <td>общество с ограниченной ответственностью  форв...</td>\n",
       "      <td>amara</td>\n",
       "      <td>False</td>\n",
       "    </tr>\n",
       "    <tr>\n",
       "      <th>2</th>\n",
       "      <td>2</td>\n",
       "      <td>ооо  меллита</td>\n",
       "      <td>max trans  limited liability company</td>\n",
       "      <td>False</td>\n",
       "    </tr>\n",
       "    <tr>\n",
       "      <th>3</th>\n",
       "      <td>3</td>\n",
       "      <td>закрытое акционерное общество  петойл   открыт...</td>\n",
       "      <td>computational technologies  ltd</td>\n",
       "      <td>False</td>\n",
       "    </tr>\n",
       "    <tr>\n",
       "      <th>4</th>\n",
       "      <td>4</td>\n",
       "      <td>общество с ограниченной ответственностью  конц...</td>\n",
       "      <td>ad arty</td>\n",
       "      <td>False</td>\n",
       "    </tr>\n",
       "  </tbody>\n",
       "</table>\n",
       "</div>"
      ],
      "text/plain": [
       "   Unnamed: 0  ... answer\n",
       "0           0  ...  False\n",
       "1           1  ...  False\n",
       "2           2  ...  False\n",
       "3           3  ...  False\n",
       "4           4  ...  False\n",
       "\n",
       "[5 rows x 4 columns]"
      ]
     },
     "execution_count": 16,
     "metadata": {
      "tags": []
     },
     "output_type": "execute_result"
    }
   ],
   "source": [
    "#remove some punctuation\n",
    "\n",
    "regex = re.compile('[%s]' % re.escape(string.punctuation))\n",
    "\n",
    "train['ru_name'] = train['ru_name'].apply(lambda text: regex.sub(' ', text))\n",
    "train['eng_name'] = train['eng_name'].apply(lambda text: regex.sub(' ', text))\n",
    "\n",
    "train.head()"
   ]
  },
  {
   "cell_type": "code",
   "execution_count": 17,
   "metadata": {
    "colab": {
     "base_uri": "https://localhost:8080/",
     "height": 197
    },
    "colab_type": "code",
    "id": "Wb4BE6mExYxD",
    "outputId": "24020a91-ab1c-40ef-8815-8a7b019226f9"
   },
   "outputs": [
    {
     "data": {
      "text/html": [
       "<div>\n",
       "<style scoped>\n",
       "    .dataframe tbody tr th:only-of-type {\n",
       "        vertical-align: middle;\n",
       "    }\n",
       "\n",
       "    .dataframe tbody tr th {\n",
       "        vertical-align: top;\n",
       "    }\n",
       "\n",
       "    .dataframe thead th {\n",
       "        text-align: right;\n",
       "    }\n",
       "</style>\n",
       "<table border=\"1\" class=\"dataframe\">\n",
       "  <thead>\n",
       "    <tr style=\"text-align: right;\">\n",
       "      <th></th>\n",
       "      <th>Unnamed: 0</th>\n",
       "      <th>ru_name</th>\n",
       "      <th>eng_name</th>\n",
       "      <th>answer</th>\n",
       "    </tr>\n",
       "  </thead>\n",
       "  <tbody>\n",
       "    <tr>\n",
       "      <th>0</th>\n",
       "      <td>0</td>\n",
       "      <td>[общество, с, ограниченной, ответственностью, ...</td>\n",
       "      <td>[langford, travel]</td>\n",
       "      <td>False</td>\n",
       "    </tr>\n",
       "    <tr>\n",
       "      <th>1</th>\n",
       "      <td>1</td>\n",
       "      <td>[общество, с, ограниченной, ответственностью, ...</td>\n",
       "      <td>[amara]</td>\n",
       "      <td>False</td>\n",
       "    </tr>\n",
       "    <tr>\n",
       "      <th>2</th>\n",
       "      <td>2</td>\n",
       "      <td>[ооо, меллита]</td>\n",
       "      <td>[max, trans, limited, liability, company]</td>\n",
       "      <td>False</td>\n",
       "    </tr>\n",
       "    <tr>\n",
       "      <th>3</th>\n",
       "      <td>3</td>\n",
       "      <td>[закрытое, акционерное, общество, петойл, откр...</td>\n",
       "      <td>[computational, technologies, ltd]</td>\n",
       "      <td>False</td>\n",
       "    </tr>\n",
       "    <tr>\n",
       "      <th>4</th>\n",
       "      <td>4</td>\n",
       "      <td>[общество, с, ограниченной, ответственностью, ...</td>\n",
       "      <td>[ad, arty]</td>\n",
       "      <td>False</td>\n",
       "    </tr>\n",
       "  </tbody>\n",
       "</table>\n",
       "</div>"
      ],
      "text/plain": [
       "   Unnamed: 0  ... answer\n",
       "0           0  ...  False\n",
       "1           1  ...  False\n",
       "2           2  ...  False\n",
       "3           3  ...  False\n",
       "4           4  ...  False\n",
       "\n",
       "[5 rows x 4 columns]"
      ]
     },
     "execution_count": 17,
     "metadata": {
      "tags": []
     },
     "output_type": "execute_result"
    }
   ],
   "source": [
    "#tokenize\n",
    "train['ru_name'] = train['ru_name'].apply(lambda str: WordPunctTokenizer().tokenize(str))\n",
    "train['eng_name'] = train['eng_name'].apply(lambda str: WordPunctTokenizer().tokenize(str))\n",
    "\n",
    "train.head()"
   ]
  },
  {
   "cell_type": "code",
   "execution_count": 18,
   "metadata": {
    "colab": {
     "base_uri": "https://localhost:8080/",
     "height": 197
    },
    "colab_type": "code",
    "id": "8e9I_FpBxl9a",
    "outputId": "99951820-f424-4c72-ec06-2f03f2dda194"
   },
   "outputs": [
    {
     "data": {
      "text/html": [
       "<div>\n",
       "<style scoped>\n",
       "    .dataframe tbody tr th:only-of-type {\n",
       "        vertical-align: middle;\n",
       "    }\n",
       "\n",
       "    .dataframe tbody tr th {\n",
       "        vertical-align: top;\n",
       "    }\n",
       "\n",
       "    .dataframe thead th {\n",
       "        text-align: right;\n",
       "    }\n",
       "</style>\n",
       "<table border=\"1\" class=\"dataframe\">\n",
       "  <thead>\n",
       "    <tr style=\"text-align: right;\">\n",
       "      <th></th>\n",
       "      <th>Unnamed: 0</th>\n",
       "      <th>ru_name</th>\n",
       "      <th>eng_name</th>\n",
       "      <th>answer</th>\n",
       "    </tr>\n",
       "  </thead>\n",
       "  <tbody>\n",
       "    <tr>\n",
       "      <th>0</th>\n",
       "      <td>0</td>\n",
       "      <td>[ева]</td>\n",
       "      <td>[langford, travel]</td>\n",
       "      <td>False</td>\n",
       "    </tr>\n",
       "    <tr>\n",
       "      <th>1</th>\n",
       "      <td>1</td>\n",
       "      <td>[форвард]</td>\n",
       "      <td>[amara]</td>\n",
       "      <td>False</td>\n",
       "    </tr>\n",
       "    <tr>\n",
       "      <th>2</th>\n",
       "      <td>2</td>\n",
       "      <td>[меллита]</td>\n",
       "      <td>[max, trans]</td>\n",
       "      <td>False</td>\n",
       "    </tr>\n",
       "    <tr>\n",
       "      <th>3</th>\n",
       "      <td>3</td>\n",
       "      <td>[петойл, открыто, конкурсное, производство]</td>\n",
       "      <td>[computational, technologies]</td>\n",
       "      <td>False</td>\n",
       "    </tr>\n",
       "    <tr>\n",
       "      <th>4</th>\n",
       "      <td>4</td>\n",
       "      <td>[концепт, трейд]</td>\n",
       "      <td>[ad, arty]</td>\n",
       "      <td>False</td>\n",
       "    </tr>\n",
       "  </tbody>\n",
       "</table>\n",
       "</div>"
      ],
      "text/plain": [
       "   Unnamed: 0  ... answer\n",
       "0           0  ...  False\n",
       "1           1  ...  False\n",
       "2           2  ...  False\n",
       "3           3  ...  False\n",
       "4           4  ...  False\n",
       "\n",
       "[5 rows x 4 columns]"
      ]
     },
     "execution_count": 18,
     "metadata": {
      "tags": []
     },
     "output_type": "execute_result"
    }
   ],
   "source": [
    "#remove stopwords\n",
    "\n",
    "common_rus_words = ['', 'общество', 'c', 'c', 'ограниченной', 'ответственностью', 'ооо', 'акционерное', 'зао', 'закрытое', 'компания', 'комиссия', 'ликвидационная',\n",
    "                    'групп', 'сервис', 'о', 'организация', 'дом', 'оао', 'м', 'открытое', 'сформирована', 'ликвидатора', 'ответственностью',\n",
    "                    'назначение', 'ао', 'предприятие', 'а', 'некоммерческая', 'некоммерческое', 'нп', 'общественная', 'ликвидации',\n",
    "                    'г', 'ано', 'автономная', 'ассоциация', 'тд', 'торговый', 'лтд', 'ликвидационный', 'ликвидационной', 'ликвидационном', 'р', 'оо', 'ликвидационного']\n",
    "                \n",
    "\n",
    "common_eng_words = ['', 'company', 'limited', 'ltd', 'liability', 'llc', 'co', 'of', 'stock', 'joint', 'group', 'the', 'closed', 'open', 'ooo', 'oo', 'jsc', 'cjsc', 'house', 'ограниченной',\n",
    "                    'ответственностью', 'liabiliti', 'public', 'liabilily', 'centre', 'industrial', 'scientific', 'budgetary', 'federal', 'state', 'educational', 'ооо', 'center', 'iiability', 'corporation', 'st', \n",
    "                    'kompany', 'global', 'innovations', 'international', 'stok']\n",
    "\n",
    "\n",
    "common_rus_words = common_rus_words + list(stopwords.words('russian'))\n",
    "common_eng_words = common_eng_words + list(stopwords.words('english'))\n",
    "\n",
    "def remove_element(arr, common_words):\n",
    "  temp_arr = []\n",
    "  try:\n",
    "    for word in arr:\n",
    "      if word not in common_words and len(word)>1:\n",
    "        temp_arr.append(word)\n",
    "    return temp_arr\n",
    "  except:\n",
    "    return [] \n",
    "\n",
    "train['ru_name'] = train['ru_name'].apply(lambda arr: remove_element(arr, common_rus_words))\n",
    "train['eng_name'] = train['eng_name'].apply(lambda arr: remove_element(arr, common_eng_words))\n",
    "\n",
    "train.head()"
   ]
  },
  {
   "cell_type": "code",
   "execution_count": 19,
   "metadata": {
    "colab": {
     "base_uri": "https://localhost:8080/",
     "height": 231
    },
    "colab_type": "code",
    "id": "Coq_ewajxqbl",
    "outputId": "bed51164-6d31-4668-f420-b4e90a372301"
   },
   "outputs": [
    {
     "data": {
      "text/html": [
       "<div>\n",
       "<style scoped>\n",
       "    .dataframe tbody tr th:only-of-type {\n",
       "        vertical-align: middle;\n",
       "    }\n",
       "\n",
       "    .dataframe tbody tr th {\n",
       "        vertical-align: top;\n",
       "    }\n",
       "\n",
       "    .dataframe thead th {\n",
       "        text-align: right;\n",
       "    }\n",
       "</style>\n",
       "<table border=\"1\" class=\"dataframe\">\n",
       "  <thead>\n",
       "    <tr style=\"text-align: right;\">\n",
       "      <th></th>\n",
       "      <th>Unnamed: 0</th>\n",
       "      <th>ru_name</th>\n",
       "      <th>eng_name</th>\n",
       "      <th>answer</th>\n",
       "      <th>ru_en_transliteration</th>\n",
       "      <th>en_ru_transliteration</th>\n",
       "    </tr>\n",
       "  </thead>\n",
       "  <tbody>\n",
       "    <tr>\n",
       "      <th>0</th>\n",
       "      <td>0</td>\n",
       "      <td>ева</td>\n",
       "      <td>langford travel</td>\n",
       "      <td>False</td>\n",
       "      <td>eva</td>\n",
       "      <td>лангфорд травел</td>\n",
       "    </tr>\n",
       "    <tr>\n",
       "      <th>1</th>\n",
       "      <td>1</td>\n",
       "      <td>форвард</td>\n",
       "      <td>amara</td>\n",
       "      <td>False</td>\n",
       "      <td>forvard</td>\n",
       "      <td>амара</td>\n",
       "    </tr>\n",
       "    <tr>\n",
       "      <th>2</th>\n",
       "      <td>2</td>\n",
       "      <td>меллита</td>\n",
       "      <td>max trans</td>\n",
       "      <td>False</td>\n",
       "      <td>mellita</td>\n",
       "      <td>маx транс</td>\n",
       "    </tr>\n",
       "    <tr>\n",
       "      <th>3</th>\n",
       "      <td>3</td>\n",
       "      <td>петойл открыто конкурсное производство</td>\n",
       "      <td>computational technologies</td>\n",
       "      <td>False</td>\n",
       "      <td>petojl otkryto konkursnoe proizvodstvo</td>\n",
       "      <td>цомпутатионал течнологиес</td>\n",
       "    </tr>\n",
       "    <tr>\n",
       "      <th>4</th>\n",
       "      <td>4</td>\n",
       "      <td>концепт трейд</td>\n",
       "      <td>ad arty</td>\n",
       "      <td>False</td>\n",
       "      <td>kontsept trejd</td>\n",
       "      <td>ад арты</td>\n",
       "    </tr>\n",
       "  </tbody>\n",
       "</table>\n",
       "</div>"
      ],
      "text/plain": [
       "   Unnamed: 0  ...      en_ru_transliteration\n",
       "0           0  ...            лангфорд травел\n",
       "1           1  ...                      амара\n",
       "2           2  ...                  маx транс\n",
       "3           3  ...  цомпутатионал течнологиес\n",
       "4           4  ...                    ад арты\n",
       "\n",
       "[5 rows x 6 columns]"
      ]
     },
     "execution_count": 19,
     "metadata": {
      "tags": []
     },
     "output_type": "execute_result"
    }
   ],
   "source": [
    "#transliterate text\n",
    "\n",
    "train['ru_name'] = train['ru_name'].apply(lambda arr: ' '.join(arr))\n",
    "train['eng_name'] = train['eng_name'].apply(lambda arr: ' '.join(arr))\n",
    "\n",
    "train['ru_en_transliteration'] = train['ru_name'].apply(lambda text: translit(text, 'ru', reversed=True))\n",
    "train['en_ru_transliteration'] = train['eng_name'].apply(lambda text: translit(text, 'ru'))\n",
    "\n",
    "train.head()"
   ]
  },
  {
   "cell_type": "code",
   "execution_count": 20,
   "metadata": {
    "colab": {
     "base_uri": "https://localhost:8080/",
     "height": 231
    },
    "colab_type": "code",
    "id": "5QEq3CkGx9H4",
    "outputId": "f216b9c2-fae9-4909-f265-639370a27fbc"
   },
   "outputs": [
    {
     "data": {
      "text/html": [
       "<div>\n",
       "<style scoped>\n",
       "    .dataframe tbody tr th:only-of-type {\n",
       "        vertical-align: middle;\n",
       "    }\n",
       "\n",
       "    .dataframe tbody tr th {\n",
       "        vertical-align: top;\n",
       "    }\n",
       "\n",
       "    .dataframe thead th {\n",
       "        text-align: right;\n",
       "    }\n",
       "</style>\n",
       "<table border=\"1\" class=\"dataframe\">\n",
       "  <thead>\n",
       "    <tr style=\"text-align: right;\">\n",
       "      <th></th>\n",
       "      <th>Unnamed: 0</th>\n",
       "      <th>ru_name</th>\n",
       "      <th>eng_name</th>\n",
       "      <th>answer</th>\n",
       "      <th>ru_en_transliteration</th>\n",
       "      <th>en_ru_transliteration</th>\n",
       "    </tr>\n",
       "  </thead>\n",
       "  <tbody>\n",
       "    <tr>\n",
       "      <th>0</th>\n",
       "      <td>0</td>\n",
       "      <td>[ева]</td>\n",
       "      <td>[langford, travel]</td>\n",
       "      <td>False</td>\n",
       "      <td>[eva]</td>\n",
       "      <td>[лангфорд, травел]</td>\n",
       "    </tr>\n",
       "    <tr>\n",
       "      <th>1</th>\n",
       "      <td>1</td>\n",
       "      <td>[форвард]</td>\n",
       "      <td>[amara]</td>\n",
       "      <td>False</td>\n",
       "      <td>[forvard]</td>\n",
       "      <td>[амара]</td>\n",
       "    </tr>\n",
       "    <tr>\n",
       "      <th>2</th>\n",
       "      <td>2</td>\n",
       "      <td>[меллита]</td>\n",
       "      <td>[max, trans]</td>\n",
       "      <td>False</td>\n",
       "      <td>[mellita]</td>\n",
       "      <td>[маx, транс]</td>\n",
       "    </tr>\n",
       "    <tr>\n",
       "      <th>3</th>\n",
       "      <td>3</td>\n",
       "      <td>[петойл, открыто, конкурсное, производство]</td>\n",
       "      <td>[computational, technologies]</td>\n",
       "      <td>False</td>\n",
       "      <td>[petojl, otkryto, konkursnoe, proizvodstvo]</td>\n",
       "      <td>[цомпутатионал, течнологиес]</td>\n",
       "    </tr>\n",
       "    <tr>\n",
       "      <th>4</th>\n",
       "      <td>4</td>\n",
       "      <td>[концепт, трейд]</td>\n",
       "      <td>[ad, arty]</td>\n",
       "      <td>False</td>\n",
       "      <td>[kontsept, trejd]</td>\n",
       "      <td>[ад, арты]</td>\n",
       "    </tr>\n",
       "  </tbody>\n",
       "</table>\n",
       "</div>"
      ],
      "text/plain": [
       "   Unnamed: 0  ...         en_ru_transliteration\n",
       "0           0  ...            [лангфорд, травел]\n",
       "1           1  ...                       [амара]\n",
       "2           2  ...                  [маx, транс]\n",
       "3           3  ...  [цомпутатионал, течнологиес]\n",
       "4           4  ...                    [ад, арты]\n",
       "\n",
       "[5 rows x 6 columns]"
      ]
     },
     "execution_count": 20,
     "metadata": {
      "tags": []
     },
     "output_type": "execute_result"
    }
   ],
   "source": [
    "#split data\n",
    "train['ru_name'] = train['ru_name'].apply(lambda str: str.split())\n",
    "train['eng_name'] = train['eng_name'].apply(lambda str: str.split())  \n",
    "train['ru_en_transliteration'] = train['ru_en_transliteration'].apply(lambda str: str.split())\n",
    "train['en_ru_transliteration'] = train['en_ru_transliteration'].apply(lambda str: str.split())\n",
    "\n",
    "train.head()"
   ]
  },
  {
   "cell_type": "markdown",
   "metadata": {
    "colab_type": "text",
    "id": "NT9_p8tJ1sg_"
   },
   "source": [
    "## Skip the part of feature generation and load it"
   ]
  },
  {
   "cell_type": "code",
   "execution_count": 0,
   "metadata": {
    "colab": {},
    "colab_type": "code",
    "id": "-aZk4Y7qx9bo"
   },
   "outputs": [],
   "source": [
    "LD = pd.read_csv('data/LD_train.csv')\n",
    "RO = pd.read_csv('data/RO_train.csv')\n",
    "JW = pd.read_csv('data/JW_train.csv')\n",
    "DL = pd.read_csv('data/DL_train.csv')\n",
    "BG = pd.read_csv('data/BG_train.csv')\n",
    "TG = pd.read_csv('data/TG_train.csv')\n",
    "CS = pd.read_csv('data/CS_train.csv')"
   ]
  },
  {
   "cell_type": "code",
   "execution_count": 0,
   "metadata": {
    "colab": {},
    "colab_type": "code",
    "id": "xhD6q77414lk"
   },
   "outputs": [],
   "source": [
    "#wrap up to single dataframe\n",
    "data = {'LD_rus':LD['LD_rus'], \n",
    "        'LD_eng':LD['LD_eng'], \n",
    "        'JW_rus':JW['0'], \n",
    "        'JW_eng':JW['1'], \n",
    "        'RO_rus':RO['0'], \n",
    "        'RO_eng':RO['1'], \n",
    "        'DL_rus':DL['0'], \n",
    "        'DL_eng':DL['1'], \n",
    "        'TG_rus':TG['0'], \n",
    "        'TG_eng':TG['1'], \n",
    "        'BG_rus':BG['0'], \n",
    "        'BG_eng':BG['1'], \n",
    "        'CS_eng':CS['0'],\n",
    "        'answer':train['answer']}\n",
    "all_train = pd.DataFrame(data)"
   ]
  },
  {
   "cell_type": "code",
   "execution_count": 0,
   "metadata": {
    "colab": {},
    "colab_type": "code",
    "id": "_akS49ja2ALX"
   },
   "outputs": [],
   "source": [
    "## little post processing and normalization\n",
    "all_train['LD_rus'] = all_train['LD_rus'].apply(lambda x: 18 if x==100 else x)\n",
    "all_train['LD_eng'] = all_train['LD_eng'].apply(lambda x: 18 if x==100 else x)\n",
    "\n",
    "minn = all_train['LD_rus'].min()\n",
    "maxx = all_train['LD_rus'].max()\n",
    "all_train['LD_rus'] = all_train['LD_rus'].apply(lambda x: (x - minn)/(maxx - minn))\n",
    "\n",
    "minn = all_train['LD_eng'].min()\n",
    "maxx = all_train['LD_eng'].max()\n",
    "all_train['LD_eng'] = all_train['LD_eng'].apply(lambda x: (x - minn)/(maxx - minn))\n",
    "all_train['answer'] = all_train['answer'].apply(lambda x: int(x == True))"
   ]
  },
  {
   "cell_type": "code",
   "execution_count": 24,
   "metadata": {
    "colab": {
     "base_uri": "https://localhost:8080/",
     "height": 217
    },
    "colab_type": "code",
    "id": "6lxmPlMV2GAF",
    "outputId": "bc0b5320-6322-4c33-ddcf-ceb4d1fd9427"
   },
   "outputs": [
    {
     "data": {
      "text/html": [
       "<div>\n",
       "<style scoped>\n",
       "    .dataframe tbody tr th:only-of-type {\n",
       "        vertical-align: middle;\n",
       "    }\n",
       "\n",
       "    .dataframe tbody tr th {\n",
       "        vertical-align: top;\n",
       "    }\n",
       "\n",
       "    .dataframe thead th {\n",
       "        text-align: right;\n",
       "    }\n",
       "</style>\n",
       "<table border=\"1\" class=\"dataframe\">\n",
       "  <thead>\n",
       "    <tr style=\"text-align: right;\">\n",
       "      <th></th>\n",
       "      <th>LD_rus</th>\n",
       "      <th>LD_eng</th>\n",
       "      <th>JW_rus</th>\n",
       "      <th>JW_eng</th>\n",
       "      <th>RO_rus</th>\n",
       "      <th>RO_eng</th>\n",
       "      <th>DL_rus</th>\n",
       "      <th>DL_eng</th>\n",
       "      <th>TG_rus</th>\n",
       "      <th>TG_eng</th>\n",
       "      <th>BG_rus</th>\n",
       "      <th>BG_eng</th>\n",
       "      <th>CS_eng</th>\n",
       "      <th>answer</th>\n",
       "    </tr>\n",
       "  </thead>\n",
       "  <tbody>\n",
       "    <tr>\n",
       "      <th>0</th>\n",
       "      <td>0.135135</td>\n",
       "      <td>0.135135</td>\n",
       "      <td>0.500000</td>\n",
       "      <td>0.500000</td>\n",
       "      <td>0.222222</td>\n",
       "      <td>0.222222</td>\n",
       "      <td>1.000000</td>\n",
       "      <td>1.000000</td>\n",
       "      <td>0.000000</td>\n",
       "      <td>0.000000</td>\n",
       "      <td>0.000000</td>\n",
       "      <td>0.000000</td>\n",
       "      <td>0.439093</td>\n",
       "      <td>0</td>\n",
       "    </tr>\n",
       "    <tr>\n",
       "      <th>1</th>\n",
       "      <td>0.135135</td>\n",
       "      <td>0.135135</td>\n",
       "      <td>0.395238</td>\n",
       "      <td>0.395238</td>\n",
       "      <td>0.333333</td>\n",
       "      <td>0.333333</td>\n",
       "      <td>0.714286</td>\n",
       "      <td>0.714286</td>\n",
       "      <td>0.000000</td>\n",
       "      <td>0.000000</td>\n",
       "      <td>0.076923</td>\n",
       "      <td>0.076923</td>\n",
       "      <td>0.330170</td>\n",
       "      <td>0</td>\n",
       "    </tr>\n",
       "    <tr>\n",
       "      <th>2</th>\n",
       "      <td>0.162162</td>\n",
       "      <td>0.162162</td>\n",
       "      <td>0.492063</td>\n",
       "      <td>0.492063</td>\n",
       "      <td>0.400000</td>\n",
       "      <td>0.400000</td>\n",
       "      <td>1.000000</td>\n",
       "      <td>1.000000</td>\n",
       "      <td>0.076923</td>\n",
       "      <td>0.076923</td>\n",
       "      <td>0.090909</td>\n",
       "      <td>0.090909</td>\n",
       "      <td>0.389286</td>\n",
       "      <td>0</td>\n",
       "    </tr>\n",
       "    <tr>\n",
       "      <th>3</th>\n",
       "      <td>0.243243</td>\n",
       "      <td>0.243243</td>\n",
       "      <td>0.626374</td>\n",
       "      <td>0.626374</td>\n",
       "      <td>0.421053</td>\n",
       "      <td>0.400000</td>\n",
       "      <td>0.923077</td>\n",
       "      <td>1.000000</td>\n",
       "      <td>0.045455</td>\n",
       "      <td>0.045455</td>\n",
       "      <td>0.050000</td>\n",
       "      <td>0.050000</td>\n",
       "      <td>0.622160</td>\n",
       "      <td>0</td>\n",
       "    </tr>\n",
       "    <tr>\n",
       "      <th>4</th>\n",
       "      <td>0.108108</td>\n",
       "      <td>0.108108</td>\n",
       "      <td>0.483333</td>\n",
       "      <td>0.483333</td>\n",
       "      <td>0.285714</td>\n",
       "      <td>0.285714</td>\n",
       "      <td>1.000000</td>\n",
       "      <td>1.000000</td>\n",
       "      <td>0.100000</td>\n",
       "      <td>0.100000</td>\n",
       "      <td>0.125000</td>\n",
       "      <td>0.125000</td>\n",
       "      <td>0.196591</td>\n",
       "      <td>0</td>\n",
       "    </tr>\n",
       "  </tbody>\n",
       "</table>\n",
       "</div>"
      ],
      "text/plain": [
       "     LD_rus    LD_eng    JW_rus    JW_eng  ...    BG_rus    BG_eng    CS_eng  answer\n",
       "0  0.135135  0.135135  0.500000  0.500000  ...  0.000000  0.000000  0.439093       0\n",
       "1  0.135135  0.135135  0.395238  0.395238  ...  0.076923  0.076923  0.330170       0\n",
       "2  0.162162  0.162162  0.492063  0.492063  ...  0.090909  0.090909  0.389286       0\n",
       "3  0.243243  0.243243  0.626374  0.626374  ...  0.050000  0.050000  0.622160       0\n",
       "4  0.108108  0.108108  0.483333  0.483333  ...  0.125000  0.125000  0.196591       0\n",
       "\n",
       "[5 rows x 14 columns]"
      ]
     },
     "execution_count": 24,
     "metadata": {
      "tags": []
     },
     "output_type": "execute_result"
    }
   ],
   "source": [
    "all_train.head()"
   ]
  },
  {
   "cell_type": "code",
   "execution_count": 0,
   "metadata": {
    "colab": {},
    "colab_type": "code",
    "id": "fvbZCaWa2UiB"
   },
   "outputs": [],
   "source": [
    " X_train, X_test, y_train, y_test = train_test_split(all_train[['LD_rus',\t'LD_eng',\t'JW_rus',\t'JW_eng',\t'RO_rus',\t'RO_eng','DL_rus',\t'DL_eng',\t'TG_rus',\t'TG_eng',\t'BG_rus',\t'BG_eng']]\n",
    "                                                     , all_train['answer'], test_size=0.2, random_state=42)"
   ]
  },
  {
   "cell_type": "code",
   "execution_count": 0,
   "metadata": {
    "colab": {},
    "colab_type": "code",
    "id": "0DQjST8Y2hca"
   },
   "outputs": [],
   "source": [
    "def precision(preds, trues):\n",
    "  preds = np.array(preds)\n",
    "  trues = np.array(trues)\n",
    "  return np.sum(preds[trues == 1]) / np.sum(preds)\n",
    "\n",
    "def recall(preds, trues):\n",
    "  preds = np.array(preds)\n",
    "  trues = np.array(trues)\n",
    "  return np.sum(preds[trues == 1]) / np.sum(trues)\n",
    "\n",
    "def f_score(preds, trues):\n",
    "  p = precision(preds, trues)\n",
    "  r = recall(preds, trues)\n",
    "  return 2 * p * r / (p + r)"
   ]
  },
  {
   "cell_type": "markdown",
   "metadata": {
    "colab_type": "text",
    "id": "XsFhzLBs2Ou8"
   },
   "source": [
    "## Model with best score"
   ]
  },
  {
   "cell_type": "code",
   "execution_count": 30,
   "metadata": {
    "colab": {
     "base_uri": "https://localhost:8080/",
     "height": 70
    },
    "colab_type": "code",
    "id": "tbZmBEx42I9I",
    "outputId": "aaf0c6c3-2084-422e-9703-fa75f5946a9a"
   },
   "outputs": [
    {
     "name": "stdout",
     "output_type": "stream",
     "text": [
      "Precision:  0.9254595276948182\n",
      "Recall:  0.8257465454245763\n",
      "F1 score:  0.8727642276422765\n"
     ]
    }
   ],
   "source": [
    "#fit predict\n",
    "\n",
    "from sklearn.ensemble import RandomForestClassifier\n",
    "random_forest = RandomForestClassifier(n_estimators = 40).fit(X_train,y_train)\n",
    "pred = random_forest.predict(X_test)\n",
    "\n",
    "print('Precision: ',precision(pred, y_test))\n",
    "print('Recall: ',recall(pred, y_test))\n",
    "print('F1 score: ', f_score(pred, y_test))"
   ]
  },
  {
   "cell_type": "code",
   "execution_count": 34,
   "metadata": {
    "colab": {
     "base_uri": "https://localhost:8080/",
     "height": 34
    },
    "colab_type": "code",
    "id": "Tj_oUiSF2ulO",
    "outputId": "2c3680cd-3883-4f71-c562-4d35ff4212db"
   },
   "outputs": [
    {
     "data": {
      "text/plain": [
       "['rf_kontur.joblib']"
      ]
     },
     "execution_count": 34,
     "metadata": {
      "tags": []
     },
     "output_type": "execute_result"
    }
   ],
   "source": [
    "#save model\n",
    "dump(random_forest, 'rf_kontur.joblib') "
   ]
  }
 ],
 "metadata": {
  "colab": {
   "name": "KonturPreproc",
   "provenance": [],
   "toc_visible": true
  },
  "kernelspec": {
   "display_name": "Python 3",
   "language": "python",
   "name": "python3"
  },
  "language_info": {
   "codemirror_mode": {
    "name": "ipython",
    "version": 3
   },
   "file_extension": ".py",
   "mimetype": "text/x-python",
   "name": "python",
   "nbconvert_exporter": "python",
   "pygments_lexer": "ipython3",
   "version": "3.6.9"
  }
 },
 "nbformat": 4,
 "nbformat_minor": 1
}
