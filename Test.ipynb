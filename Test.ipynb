{
 "cells": [
  {
   "cell_type": "code",
   "execution_count": 1,
   "metadata": {
    "colab": {
     "base_uri": "https://localhost:8080/",
     "height": 52
    },
    "colab_type": "code",
    "id": "XX4PlTPe-k5N",
    "outputId": "d44e914f-8dfe-4ae7-8cc7-082d78274ce0"
   },
   "outputs": [
    {
     "name": "stderr",
     "output_type": "stream",
     "text": [
      "[nltk_data] Downloading package stopwords to\n",
      "[nltk_data]     /home/nariman/nltk_data...\n",
      "[nltk_data]   Package stopwords is already up-to-date!\n"
     ]
    }
   ],
   "source": [
    "import pandas as pd\n",
    "import numpy as np\n",
    "\n",
    "import re\n",
    "import string\n",
    "\n",
    "import requests\n",
    "\n",
    "import nltk\n",
    "from nltk.tokenize import WordPunctTokenizer\n",
    "from nltk.corpus import stopwords\n",
    "nltk.download('stopwords')\n",
    "from sklearn.model_selection import train_test_split\n",
    "\n",
    "from joblib import dump, load\n",
    "\n",
    "#!pip install transliterate\n",
    "from transliterate import translit, get_available_language_codes\n"
   ]
  },
  {
   "cell_type": "code",
   "execution_count": 5,
   "metadata": {
    "colab": {
     "base_uri": "https://localhost:8080/",
     "height": 197
    },
    "colab_type": "code",
    "id": "BoWwHB13-teX",
    "outputId": "b7dc98b4-8bb3-4584-dd42-f31733e8d038"
   },
   "outputs": [
    {
     "data": {
      "text/html": [
       "<div>\n",
       "<style scoped>\n",
       "    .dataframe tbody tr th:only-of-type {\n",
       "        vertical-align: middle;\n",
       "    }\n",
       "\n",
       "    .dataframe tbody tr th {\n",
       "        vertical-align: top;\n",
       "    }\n",
       "\n",
       "    .dataframe thead th {\n",
       "        text-align: right;\n",
       "    }\n",
       "</style>\n",
       "<table border=\"1\" class=\"dataframe\">\n",
       "  <thead>\n",
       "    <tr style=\"text-align: right;\">\n",
       "      <th></th>\n",
       "      <th>Unnamed: 0</th>\n",
       "      <th>ru_name</th>\n",
       "      <th>eng_name</th>\n",
       "    </tr>\n",
       "  </thead>\n",
       "  <tbody>\n",
       "    <tr>\n",
       "      <th>0</th>\n",
       "      <td>0</td>\n",
       "      <td>ООО \"Технология-СМ\"</td>\n",
       "      <td>TRANSMOROZ GMBH</td>\n",
       "    </tr>\n",
       "    <tr>\n",
       "      <th>1</th>\n",
       "      <td>1</td>\n",
       "      <td>Общество с ограниченной ответственностью Научн...</td>\n",
       "      <td>\"OBS\" Limited Liability Company</td>\n",
       "    </tr>\n",
       "    <tr>\n",
       "      <th>2</th>\n",
       "      <td>2</td>\n",
       "      <td>Общество с ограниченной ответственностью \"Торг...</td>\n",
       "      <td>Synthesis Engineering LTD</td>\n",
       "    </tr>\n",
       "    <tr>\n",
       "      <th>3</th>\n",
       "      <td>3</td>\n",
       "      <td>ООО \"ТД \"Грумант\"</td>\n",
       "      <td>\"RMP Forwarder\" Company Limited</td>\n",
       "    </tr>\n",
       "    <tr>\n",
       "      <th>4</th>\n",
       "      <td>4</td>\n",
       "      <td>ООО \"Отис\"</td>\n",
       "      <td>\"Russian blinis\" limited liability company</td>\n",
       "    </tr>\n",
       "  </tbody>\n",
       "</table>\n",
       "</div>"
      ],
      "text/plain": [
       "   Unnamed: 0  ...                                    eng_name\n",
       "0           0  ...                             TRANSMOROZ GMBH\n",
       "1           1  ...             \"OBS\" Limited Liability Company\n",
       "2           2  ...                   Synthesis Engineering LTD\n",
       "3           3  ...             \"RMP Forwarder\" Company Limited\n",
       "4           4  ...  \"Russian blinis\" limited liability company\n",
       "\n",
       "[5 rows x 3 columns]"
      ]
     },
     "execution_count": 5,
     "metadata": {
      "tags": []
     },
     "output_type": "execute_result"
    }
   ],
   "source": [
    "test = pd.read_csv('data/test_data.tsv', sep='\\t')\n",
    "test.head()"
   ]
  },
  {
   "cell_type": "code",
   "execution_count": 6,
   "metadata": {
    "colab": {
     "base_uri": "https://localhost:8080/",
     "height": 197
    },
    "colab_type": "code",
    "id": "PJbNPLXx_HwA",
    "outputId": "25d7f04b-fb20-4719-df12-e6b975cdc295"
   },
   "outputs": [
    {
     "data": {
      "text/html": [
       "<div>\n",
       "<style scoped>\n",
       "    .dataframe tbody tr th:only-of-type {\n",
       "        vertical-align: middle;\n",
       "    }\n",
       "\n",
       "    .dataframe tbody tr th {\n",
       "        vertical-align: top;\n",
       "    }\n",
       "\n",
       "    .dataframe thead th {\n",
       "        text-align: right;\n",
       "    }\n",
       "</style>\n",
       "<table border=\"1\" class=\"dataframe\">\n",
       "  <thead>\n",
       "    <tr style=\"text-align: right;\">\n",
       "      <th></th>\n",
       "      <th>Unnamed: 0</th>\n",
       "      <th>ru_name</th>\n",
       "      <th>eng_name</th>\n",
       "    </tr>\n",
       "  </thead>\n",
       "  <tbody>\n",
       "    <tr>\n",
       "      <th>0</th>\n",
       "      <td>0</td>\n",
       "      <td>ооо \"технология-см\"</td>\n",
       "      <td>transmoroz gmbh</td>\n",
       "    </tr>\n",
       "    <tr>\n",
       "      <th>1</th>\n",
       "      <td>1</td>\n",
       "      <td>общество с ограниченной ответственностью научн...</td>\n",
       "      <td>\"obs\" limited liability company</td>\n",
       "    </tr>\n",
       "    <tr>\n",
       "      <th>2</th>\n",
       "      <td>2</td>\n",
       "      <td>общество с ограниченной ответственностью \"торг...</td>\n",
       "      <td>synthesis engineering ltd</td>\n",
       "    </tr>\n",
       "    <tr>\n",
       "      <th>3</th>\n",
       "      <td>3</td>\n",
       "      <td>ооо \"тд \"грумант\"</td>\n",
       "      <td>\"rmp forwarder\" company limited</td>\n",
       "    </tr>\n",
       "    <tr>\n",
       "      <th>4</th>\n",
       "      <td>4</td>\n",
       "      <td>ооо \"отис\"</td>\n",
       "      <td>\"russian blinis\" limited liability company</td>\n",
       "    </tr>\n",
       "  </tbody>\n",
       "</table>\n",
       "</div>"
      ],
      "text/plain": [
       "   Unnamed: 0  ...                                    eng_name\n",
       "0           0  ...                             transmoroz gmbh\n",
       "1           1  ...             \"obs\" limited liability company\n",
       "2           2  ...                   synthesis engineering ltd\n",
       "3           3  ...             \"rmp forwarder\" company limited\n",
       "4           4  ...  \"russian blinis\" limited liability company\n",
       "\n",
       "[5 rows x 3 columns]"
      ]
     },
     "execution_count": 6,
     "metadata": {
      "tags": []
     },
     "output_type": "execute_result"
    }
   ],
   "source": [
    "#Lowercase\n",
    "test['ru_name'] = test['ru_name'].str.lower()\n",
    "test['eng_name']= test['eng_name'].str.lower()\n",
    "\n",
    "test.head()"
   ]
  },
  {
   "cell_type": "code",
   "execution_count": 7,
   "metadata": {
    "colab": {
     "base_uri": "https://localhost:8080/",
     "height": 197
    },
    "colab_type": "code",
    "id": "JST9ogM2_TeA",
    "outputId": "b963e4e6-99de-48bb-a120-98d38c9f8dbd"
   },
   "outputs": [
    {
     "data": {
      "text/html": [
       "<div>\n",
       "<style scoped>\n",
       "    .dataframe tbody tr th:only-of-type {\n",
       "        vertical-align: middle;\n",
       "    }\n",
       "\n",
       "    .dataframe tbody tr th {\n",
       "        vertical-align: top;\n",
       "    }\n",
       "\n",
       "    .dataframe thead th {\n",
       "        text-align: right;\n",
       "    }\n",
       "</style>\n",
       "<table border=\"1\" class=\"dataframe\">\n",
       "  <thead>\n",
       "    <tr style=\"text-align: right;\">\n",
       "      <th></th>\n",
       "      <th>Unnamed: 0</th>\n",
       "      <th>ru_name</th>\n",
       "      <th>eng_name</th>\n",
       "    </tr>\n",
       "  </thead>\n",
       "  <tbody>\n",
       "    <tr>\n",
       "      <th>0</th>\n",
       "      <td>0</td>\n",
       "      <td>ооо  технология см</td>\n",
       "      <td>transmoroz gmbh</td>\n",
       "    </tr>\n",
       "    <tr>\n",
       "      <th>1</th>\n",
       "      <td>1</td>\n",
       "      <td>общество с ограниченной ответственностью научн...</td>\n",
       "      <td>obs  limited liability company</td>\n",
       "    </tr>\n",
       "    <tr>\n",
       "      <th>2</th>\n",
       "      <td>2</td>\n",
       "      <td>общество с ограниченной ответственностью  торг...</td>\n",
       "      <td>synthesis engineering ltd</td>\n",
       "    </tr>\n",
       "    <tr>\n",
       "      <th>3</th>\n",
       "      <td>3</td>\n",
       "      <td>ооо  тд  грумант</td>\n",
       "      <td>rmp forwarder  company limited</td>\n",
       "    </tr>\n",
       "    <tr>\n",
       "      <th>4</th>\n",
       "      <td>4</td>\n",
       "      <td>ооо  отис</td>\n",
       "      <td>russian blinis  limited liability company</td>\n",
       "    </tr>\n",
       "  </tbody>\n",
       "</table>\n",
       "</div>"
      ],
      "text/plain": [
       "   Unnamed: 0  ...                                    eng_name\n",
       "0           0  ...                             transmoroz gmbh\n",
       "1           1  ...              obs  limited liability company\n",
       "2           2  ...                   synthesis engineering ltd\n",
       "3           3  ...              rmp forwarder  company limited\n",
       "4           4  ...   russian blinis  limited liability company\n",
       "\n",
       "[5 rows x 3 columns]"
      ]
     },
     "execution_count": 7,
     "metadata": {
      "tags": []
     },
     "output_type": "execute_result"
    }
   ],
   "source": [
    "#remove some punctuation\n",
    "\n",
    "regex = re.compile('[%s]' % re.escape(string.punctuation))\n",
    "\n",
    "test['ru_name'] = test['ru_name'].apply(lambda text: regex.sub(' ', text))\n",
    "test['eng_name'] = test['eng_name'].apply(lambda text: regex.sub(' ', text))\n",
    "\n",
    "test.head()"
   ]
  },
  {
   "cell_type": "code",
   "execution_count": 8,
   "metadata": {
    "colab": {
     "base_uri": "https://localhost:8080/",
     "height": 197
    },
    "colab_type": "code",
    "id": "Jo5lsMBG_YaA",
    "outputId": "3fa7d2e8-a42c-403e-82b3-3d2b4f37ce1f"
   },
   "outputs": [
    {
     "data": {
      "text/html": [
       "<div>\n",
       "<style scoped>\n",
       "    .dataframe tbody tr th:only-of-type {\n",
       "        vertical-align: middle;\n",
       "    }\n",
       "\n",
       "    .dataframe tbody tr th {\n",
       "        vertical-align: top;\n",
       "    }\n",
       "\n",
       "    .dataframe thead th {\n",
       "        text-align: right;\n",
       "    }\n",
       "</style>\n",
       "<table border=\"1\" class=\"dataframe\">\n",
       "  <thead>\n",
       "    <tr style=\"text-align: right;\">\n",
       "      <th></th>\n",
       "      <th>Unnamed: 0</th>\n",
       "      <th>ru_name</th>\n",
       "      <th>eng_name</th>\n",
       "    </tr>\n",
       "  </thead>\n",
       "  <tbody>\n",
       "    <tr>\n",
       "      <th>0</th>\n",
       "      <td>0</td>\n",
       "      <td>[ооо, технология, см]</td>\n",
       "      <td>[transmoroz, gmbh]</td>\n",
       "    </tr>\n",
       "    <tr>\n",
       "      <th>1</th>\n",
       "      <td>1</td>\n",
       "      <td>[общество, с, ограниченной, ответственностью, ...</td>\n",
       "      <td>[obs, limited, liability, company]</td>\n",
       "    </tr>\n",
       "    <tr>\n",
       "      <th>2</th>\n",
       "      <td>2</td>\n",
       "      <td>[общество, с, ограниченной, ответственностью, ...</td>\n",
       "      <td>[synthesis, engineering, ltd]</td>\n",
       "    </tr>\n",
       "    <tr>\n",
       "      <th>3</th>\n",
       "      <td>3</td>\n",
       "      <td>[ооо, тд, грумант]</td>\n",
       "      <td>[rmp, forwarder, company, limited]</td>\n",
       "    </tr>\n",
       "    <tr>\n",
       "      <th>4</th>\n",
       "      <td>4</td>\n",
       "      <td>[ооо, отис]</td>\n",
       "      <td>[russian, blinis, limited, liability, company]</td>\n",
       "    </tr>\n",
       "  </tbody>\n",
       "</table>\n",
       "</div>"
      ],
      "text/plain": [
       "   Unnamed: 0  ...                                        eng_name\n",
       "0           0  ...                              [transmoroz, gmbh]\n",
       "1           1  ...              [obs, limited, liability, company]\n",
       "2           2  ...                   [synthesis, engineering, ltd]\n",
       "3           3  ...              [rmp, forwarder, company, limited]\n",
       "4           4  ...  [russian, blinis, limited, liability, company]\n",
       "\n",
       "[5 rows x 3 columns]"
      ]
     },
     "execution_count": 8,
     "metadata": {
      "tags": []
     },
     "output_type": "execute_result"
    }
   ],
   "source": [
    "#tokenize\n",
    "test['ru_name'] = test['ru_name'].apply(lambda str: WordPunctTokenizer().tokenize(str))\n",
    "test['eng_name'] = test['eng_name'].apply(lambda str: WordPunctTokenizer().tokenize(str))\n",
    "\n",
    "test.head()"
   ]
  },
  {
   "cell_type": "code",
   "execution_count": 9,
   "metadata": {
    "colab": {
     "base_uri": "https://localhost:8080/",
     "height": 197
    },
    "colab_type": "code",
    "id": "LHxoWguM_fwG",
    "outputId": "c9b97659-0368-48ff-f4b0-63bd08a9eab2"
   },
   "outputs": [
    {
     "data": {
      "text/html": [
       "<div>\n",
       "<style scoped>\n",
       "    .dataframe tbody tr th:only-of-type {\n",
       "        vertical-align: middle;\n",
       "    }\n",
       "\n",
       "    .dataframe tbody tr th {\n",
       "        vertical-align: top;\n",
       "    }\n",
       "\n",
       "    .dataframe thead th {\n",
       "        text-align: right;\n",
       "    }\n",
       "</style>\n",
       "<table border=\"1\" class=\"dataframe\">\n",
       "  <thead>\n",
       "    <tr style=\"text-align: right;\">\n",
       "      <th></th>\n",
       "      <th>Unnamed: 0</th>\n",
       "      <th>ru_name</th>\n",
       "      <th>eng_name</th>\n",
       "    </tr>\n",
       "  </thead>\n",
       "  <tbody>\n",
       "    <tr>\n",
       "      <th>0</th>\n",
       "      <td>0</td>\n",
       "      <td>[технология, см]</td>\n",
       "      <td>[transmoroz, gmbh]</td>\n",
       "    </tr>\n",
       "    <tr>\n",
       "      <th>1</th>\n",
       "      <td>1</td>\n",
       "      <td>[научно, производственное, радиационный, контр...</td>\n",
       "      <td>[obs]</td>\n",
       "    </tr>\n",
       "    <tr>\n",
       "      <th>2</th>\n",
       "      <td>2</td>\n",
       "      <td>[спт]</td>\n",
       "      <td>[synthesis, engineering]</td>\n",
       "    </tr>\n",
       "    <tr>\n",
       "      <th>3</th>\n",
       "      <td>3</td>\n",
       "      <td>[грумант]</td>\n",
       "      <td>[rmp, forwarder]</td>\n",
       "    </tr>\n",
       "    <tr>\n",
       "      <th>4</th>\n",
       "      <td>4</td>\n",
       "      <td>[отис]</td>\n",
       "      <td>[russian, blinis]</td>\n",
       "    </tr>\n",
       "  </tbody>\n",
       "</table>\n",
       "</div>"
      ],
      "text/plain": [
       "   Unnamed: 0  ...                  eng_name\n",
       "0           0  ...        [transmoroz, gmbh]\n",
       "1           1  ...                     [obs]\n",
       "2           2  ...  [synthesis, engineering]\n",
       "3           3  ...          [rmp, forwarder]\n",
       "4           4  ...         [russian, blinis]\n",
       "\n",
       "[5 rows x 3 columns]"
      ]
     },
     "execution_count": 9,
     "metadata": {
      "tags": []
     },
     "output_type": "execute_result"
    }
   ],
   "source": [
    "#remove stopwords\n",
    "\n",
    "common_rus_words = ['', 'общество', 'c', 'c', 'ограниченной', 'ответственностью', 'ооо', 'акционерное', 'зао', 'закрытое', 'компания', 'комиссия', 'ликвидационная',\n",
    "                    'групп', 'сервис', 'о', 'организация', 'дом', 'оао', 'м', 'открытое', 'сформирована', 'ликвидатора', 'ответственностью',\n",
    "                    'назначение', 'ао', 'предприятие', 'а', 'некоммерческая', 'некоммерческое', 'нп', 'общественная', 'ликвидации',\n",
    "                    'г', 'ано', 'автономная', 'ассоциация', 'тд', 'торговый', 'лтд', 'ликвидационный', 'ликвидационной', 'ликвидационном', 'р', 'оо', 'ликвидационного']\n",
    "                \n",
    "\n",
    "common_eng_words = ['', 'company', 'limited', 'ltd', 'liability', 'llc', 'co', 'of', 'stock', 'joint', 'group', 'the', 'closed', 'open', 'ooo', 'oo', 'jsc', 'cjsc', 'house', 'ограниченной',\n",
    "                    'ответственностью', 'liabiliti', 'public', 'liabilily', 'centre', 'industrial', 'scientific', 'budgetary', 'federal', 'state', 'educational', 'ооо', 'center', 'iiability', 'corporation', 'st', \n",
    "                    'kompany', 'global', 'innovations', 'international', 'stok']\n",
    "\n",
    "\n",
    "common_rus_words = common_rus_words + list(stopwords.words('russian'))\n",
    "common_eng_words = common_eng_words + list(stopwords.words('english'))\n",
    "\n",
    "def remove_element(arr, common_words):\n",
    "  temp_arr = []\n",
    "  try:\n",
    "    for word in arr:\n",
    "      if word not in common_words and len(word)>1:\n",
    "        temp_arr.append(word)\n",
    "    return temp_arr\n",
    "  except:\n",
    "    return [] \n",
    "\n",
    "test['ru_name'] = test['ru_name'].apply(lambda arr: remove_element(arr, common_rus_words))\n",
    "test['eng_name'] = test['eng_name'].apply(lambda arr: remove_element(arr, common_eng_words))\n",
    "\n",
    "test.head()"
   ]
  },
  {
   "cell_type": "code",
   "execution_count": 10,
   "metadata": {
    "colab": {
     "base_uri": "https://localhost:8080/",
     "height": 247
    },
    "colab_type": "code",
    "id": "H77vqmgh_lzK",
    "outputId": "e12c8e4e-ec83-46e7-d822-3b55cc85db9d"
   },
   "outputs": [
    {
     "data": {
      "text/html": [
       "<div>\n",
       "<style scoped>\n",
       "    .dataframe tbody tr th:only-of-type {\n",
       "        vertical-align: middle;\n",
       "    }\n",
       "\n",
       "    .dataframe tbody tr th {\n",
       "        vertical-align: top;\n",
       "    }\n",
       "\n",
       "    .dataframe thead th {\n",
       "        text-align: right;\n",
       "    }\n",
       "</style>\n",
       "<table border=\"1\" class=\"dataframe\">\n",
       "  <thead>\n",
       "    <tr style=\"text-align: right;\">\n",
       "      <th></th>\n",
       "      <th>Unnamed: 0</th>\n",
       "      <th>ru_name</th>\n",
       "      <th>eng_name</th>\n",
       "      <th>ru_en_transliteration</th>\n",
       "      <th>en_ru_transliteration</th>\n",
       "    </tr>\n",
       "  </thead>\n",
       "  <tbody>\n",
       "    <tr>\n",
       "      <th>0</th>\n",
       "      <td>0</td>\n",
       "      <td>технология см</td>\n",
       "      <td>transmoroz gmbh</td>\n",
       "      <td>tehnologija sm</td>\n",
       "      <td>трансмороз гмбх</td>\n",
       "    </tr>\n",
       "    <tr>\n",
       "      <th>1</th>\n",
       "      <td>1</td>\n",
       "      <td>научно производственное радиационный контроль ...</td>\n",
       "      <td>obs</td>\n",
       "      <td>nauchno proizvodstvennoe radiatsionnyj kontrol...</td>\n",
       "      <td>обс</td>\n",
       "    </tr>\n",
       "    <tr>\n",
       "      <th>2</th>\n",
       "      <td>2</td>\n",
       "      <td>спт</td>\n",
       "      <td>synthesis engineering</td>\n",
       "      <td>spt</td>\n",
       "      <td>сынтхесис енгинееринг</td>\n",
       "    </tr>\n",
       "    <tr>\n",
       "      <th>3</th>\n",
       "      <td>3</td>\n",
       "      <td>грумант</td>\n",
       "      <td>rmp forwarder</td>\n",
       "      <td>grumant</td>\n",
       "      <td>рмп форwардер</td>\n",
       "    </tr>\n",
       "    <tr>\n",
       "      <th>4</th>\n",
       "      <td>4</td>\n",
       "      <td>отис</td>\n",
       "      <td>russian blinis</td>\n",
       "      <td>otis</td>\n",
       "      <td>руссиан блинис</td>\n",
       "    </tr>\n",
       "  </tbody>\n",
       "</table>\n",
       "</div>"
      ],
      "text/plain": [
       "   Unnamed: 0  ...  en_ru_transliteration\n",
       "0           0  ...        трансмороз гмбх\n",
       "1           1  ...                    обс\n",
       "2           2  ...  сынтхесис енгинееринг\n",
       "3           3  ...          рмп форwардер\n",
       "4           4  ...         руссиан блинис\n",
       "\n",
       "[5 rows x 5 columns]"
      ]
     },
     "execution_count": 10,
     "metadata": {
      "tags": []
     },
     "output_type": "execute_result"
    }
   ],
   "source": [
    "#transliterate text\n",
    "\n",
    "test['ru_name'] = test['ru_name'].apply(lambda arr: ' '.join(arr))\n",
    "test['eng_name'] = test['eng_name'].apply(lambda arr: ' '.join(arr))\n",
    "\n",
    "test['ru_en_transliteration'] = test['ru_name'].apply(lambda text: translit(text, 'ru', reversed=True))\n",
    "test['en_ru_transliteration'] = test['eng_name'].apply(lambda text: translit(text, 'ru'))\n",
    "\n",
    "test.head()"
   ]
  },
  {
   "cell_type": "code",
   "execution_count": 11,
   "metadata": {
    "colab": {
     "base_uri": "https://localhost:8080/",
     "height": 247
    },
    "colab_type": "code",
    "id": "zpCG8HN4_ski",
    "outputId": "bbc7661a-4f7a-4086-dd42-c875cdda2e16"
   },
   "outputs": [
    {
     "data": {
      "text/html": [
       "<div>\n",
       "<style scoped>\n",
       "    .dataframe tbody tr th:only-of-type {\n",
       "        vertical-align: middle;\n",
       "    }\n",
       "\n",
       "    .dataframe tbody tr th {\n",
       "        vertical-align: top;\n",
       "    }\n",
       "\n",
       "    .dataframe thead th {\n",
       "        text-align: right;\n",
       "    }\n",
       "</style>\n",
       "<table border=\"1\" class=\"dataframe\">\n",
       "  <thead>\n",
       "    <tr style=\"text-align: right;\">\n",
       "      <th></th>\n",
       "      <th>Unnamed: 0</th>\n",
       "      <th>ru_name</th>\n",
       "      <th>eng_name</th>\n",
       "      <th>ru_en_transliteration</th>\n",
       "      <th>en_ru_transliteration</th>\n",
       "    </tr>\n",
       "  </thead>\n",
       "  <tbody>\n",
       "    <tr>\n",
       "      <th>0</th>\n",
       "      <td>0</td>\n",
       "      <td>[технология, см]</td>\n",
       "      <td>[transmoroz, gmbh]</td>\n",
       "      <td>[tehnologija, sm]</td>\n",
       "      <td>[трансмороз, гмбх]</td>\n",
       "    </tr>\n",
       "    <tr>\n",
       "      <th>1</th>\n",
       "      <td>1</td>\n",
       "      <td>[научно, производственное, радиационный, контр...</td>\n",
       "      <td>[obs]</td>\n",
       "      <td>[nauchno, proizvodstvennoe, radiatsionnyj, kon...</td>\n",
       "      <td>[обс]</td>\n",
       "    </tr>\n",
       "    <tr>\n",
       "      <th>2</th>\n",
       "      <td>2</td>\n",
       "      <td>[спт]</td>\n",
       "      <td>[synthesis, engineering]</td>\n",
       "      <td>[spt]</td>\n",
       "      <td>[сынтхесис, енгинееринг]</td>\n",
       "    </tr>\n",
       "    <tr>\n",
       "      <th>3</th>\n",
       "      <td>3</td>\n",
       "      <td>[грумант]</td>\n",
       "      <td>[rmp, forwarder]</td>\n",
       "      <td>[grumant]</td>\n",
       "      <td>[рмп, форwардер]</td>\n",
       "    </tr>\n",
       "    <tr>\n",
       "      <th>4</th>\n",
       "      <td>4</td>\n",
       "      <td>[отис]</td>\n",
       "      <td>[russian, blinis]</td>\n",
       "      <td>[otis]</td>\n",
       "      <td>[руссиан, блинис]</td>\n",
       "    </tr>\n",
       "  </tbody>\n",
       "</table>\n",
       "</div>"
      ],
      "text/plain": [
       "   Unnamed: 0  ...     en_ru_transliteration\n",
       "0           0  ...        [трансмороз, гмбх]\n",
       "1           1  ...                     [обс]\n",
       "2           2  ...  [сынтхесис, енгинееринг]\n",
       "3           3  ...          [рмп, форwардер]\n",
       "4           4  ...         [руссиан, блинис]\n",
       "\n",
       "[5 rows x 5 columns]"
      ]
     },
     "execution_count": 11,
     "metadata": {
      "tags": []
     },
     "output_type": "execute_result"
    }
   ],
   "source": [
    "#split text\n",
    "test['ru_name'] = test['ru_name'].apply(lambda str: str.split())\n",
    "test['eng_name'] = test['eng_name'].apply(lambda str: str.split())  \n",
    "test['ru_en_transliteration'] = test['ru_en_transliteration'].apply(lambda str: str.split())\n",
    "test['en_ru_transliteration'] = test['en_ru_transliteration'].apply(lambda str: str.split())\n",
    "\n",
    "test.head()"
   ]
  },
  {
   "cell_type": "markdown",
   "metadata": {
    "colab_type": "text",
    "id": "iqet72XVPShL"
   },
   "source": [
    "## Skip the part of feature generation and load it"
   ]
  },
  {
   "cell_type": "code",
   "execution_count": 2,
   "metadata": {
    "colab": {},
    "colab_type": "code",
    "id": "NT_RXcWxPRyr"
   },
   "outputs": [],
   "source": [
    "LD = pd.read_csv('data/LD_test.csv')\n",
    "RO = pd.read_csv('data/RO_test.csv')\n",
    "JW = pd.read_csv('data/JW_test.csv')\n",
    "DL = pd.read_csv('data/DL_test.csv')\n",
    "BG = pd.read_csv('data/BG_test.csv')\n",
    "TG = pd.read_csv('data/TG_test.csv')\n",
    "CS = pd.read_csv('data/CS_test.csv')"
   ]
  },
  {
   "cell_type": "code",
   "execution_count": 3,
   "metadata": {
    "colab": {},
    "colab_type": "code",
    "id": "v9Ma9ABPPRv7"
   },
   "outputs": [],
   "source": [
    "#wrap up to single dataframe\n",
    "data = {'LD_rus':LD['0'], \n",
    "        'LD_eng':LD['1'], \n",
    "        'JW_rus':JW['0'], \n",
    "        'JW_eng':JW['1'], \n",
    "        'RO_rus':RO['0'], \n",
    "        'RO_eng':RO['1'], \n",
    "        'DL_rus':DL['0'], \n",
    "        'DL_eng':DL['1'], \n",
    "        'TG_rus':TG['0'], \n",
    "        'TG_eng':TG['1'], \n",
    "        'BG_rus':BG['0'], \n",
    "        'BG_eng':BG['1'], \n",
    "        'CS_eng':CS['0']\n",
    "        }\n",
    "\n",
    "all_test = pd.DataFrame(data)"
   ]
  },
  {
   "cell_type": "code",
   "execution_count": 4,
   "metadata": {
    "colab": {},
    "colab_type": "code",
    "id": "VDfOEQaSPRtt"
   },
   "outputs": [],
   "source": [
    "## little post processing and normalization\n",
    "all_test['LD_rus'] = all_test['LD_rus'].apply(lambda x: 18 if x==100 else x)\n",
    "all_test['LD_eng'] = all_test['LD_eng'].apply(lambda x: 18 if x==100 else x)\n",
    "\n",
    "minn = all_test['LD_rus'].min()\n",
    "maxx = all_test['LD_rus'].max()\n",
    "all_test['LD_rus'] = all_test['LD_rus'].apply(lambda x: (x - minn)/(maxx - minn))\n",
    "\n",
    "minn = all_test['LD_eng'].min()\n",
    "maxx = all_test['LD_eng'].max()\n",
    "all_test['LD_eng'] = all_test['LD_eng'].apply(lambda x: (x - minn)/(maxx - minn))"
   ]
  },
  {
   "cell_type": "code",
   "execution_count": 5,
   "metadata": {
    "colab": {
     "base_uri": "https://localhost:8080/",
     "height": 197
    },
    "colab_type": "code",
    "id": "bG2kgHUDPRq5",
    "outputId": "0d05076d-dd7c-4f4e-f473-3f2ba83e5578"
   },
   "outputs": [
    {
     "data": {
      "text/html": [
       "<div>\n",
       "<style scoped>\n",
       "    .dataframe tbody tr th:only-of-type {\n",
       "        vertical-align: middle;\n",
       "    }\n",
       "\n",
       "    .dataframe tbody tr th {\n",
       "        vertical-align: top;\n",
       "    }\n",
       "\n",
       "    .dataframe thead th {\n",
       "        text-align: right;\n",
       "    }\n",
       "</style>\n",
       "<table border=\"1\" class=\"dataframe\">\n",
       "  <thead>\n",
       "    <tr style=\"text-align: right;\">\n",
       "      <th></th>\n",
       "      <th>LD_rus</th>\n",
       "      <th>LD_eng</th>\n",
       "      <th>JW_rus</th>\n",
       "      <th>JW_eng</th>\n",
       "      <th>RO_rus</th>\n",
       "      <th>RO_eng</th>\n",
       "      <th>DL_rus</th>\n",
       "      <th>DL_eng</th>\n",
       "      <th>TG_rus</th>\n",
       "      <th>TG_eng</th>\n",
       "      <th>BG_rus</th>\n",
       "      <th>BG_eng</th>\n",
       "      <th>CS_eng</th>\n",
       "    </tr>\n",
       "  </thead>\n",
       "  <tbody>\n",
       "    <tr>\n",
       "      <th>0</th>\n",
       "      <td>0.054545</td>\n",
       "      <td>0.048387</td>\n",
       "      <td>0.733333</td>\n",
       "      <td>0.733333</td>\n",
       "      <td>0.400000</td>\n",
       "      <td>0.333333</td>\n",
       "      <td>1.000000</td>\n",
       "      <td>0.909091</td>\n",
       "      <td>0.043478</td>\n",
       "      <td>0.041667</td>\n",
       "      <td>0.076923</td>\n",
       "      <td>0.076923</td>\n",
       "      <td>0.490041</td>\n",
       "    </tr>\n",
       "    <tr>\n",
       "      <th>1</th>\n",
       "      <td>0.090909</td>\n",
       "      <td>0.080645</td>\n",
       "      <td>0.597222</td>\n",
       "      <td>0.597222</td>\n",
       "      <td>0.222222</td>\n",
       "      <td>0.222222</td>\n",
       "      <td>1.000000</td>\n",
       "      <td>1.000000</td>\n",
       "      <td>0.000000</td>\n",
       "      <td>0.000000</td>\n",
       "      <td>0.000000</td>\n",
       "      <td>0.000000</td>\n",
       "      <td>0.550131</td>\n",
       "    </tr>\n",
       "    <tr>\n",
       "      <th>2</th>\n",
       "      <td>0.127273</td>\n",
       "      <td>0.112903</td>\n",
       "      <td>0.629630</td>\n",
       "      <td>0.629630</td>\n",
       "      <td>0.333333</td>\n",
       "      <td>0.333333</td>\n",
       "      <td>1.000000</td>\n",
       "      <td>1.000000</td>\n",
       "      <td>0.066667</td>\n",
       "      <td>0.066667</td>\n",
       "      <td>0.076923</td>\n",
       "      <td>0.076923</td>\n",
       "      <td>0.486147</td>\n",
       "    </tr>\n",
       "    <tr>\n",
       "      <th>3</th>\n",
       "      <td>0.090909</td>\n",
       "      <td>0.080645</td>\n",
       "      <td>0.650794</td>\n",
       "      <td>0.650794</td>\n",
       "      <td>0.400000</td>\n",
       "      <td>0.400000</td>\n",
       "      <td>0.888889</td>\n",
       "      <td>0.888889</td>\n",
       "      <td>0.000000</td>\n",
       "      <td>0.000000</td>\n",
       "      <td>0.000000</td>\n",
       "      <td>0.000000</td>\n",
       "      <td>0.426105</td>\n",
       "    </tr>\n",
       "    <tr>\n",
       "      <th>4</th>\n",
       "      <td>0.072727</td>\n",
       "      <td>0.064516</td>\n",
       "      <td>0.611111</td>\n",
       "      <td>0.611111</td>\n",
       "      <td>0.400000</td>\n",
       "      <td>0.400000</td>\n",
       "      <td>0.857143</td>\n",
       "      <td>0.857143</td>\n",
       "      <td>0.166667</td>\n",
       "      <td>0.166667</td>\n",
       "      <td>0.200000</td>\n",
       "      <td>0.200000</td>\n",
       "      <td>0.648827</td>\n",
       "    </tr>\n",
       "  </tbody>\n",
       "</table>\n",
       "</div>"
      ],
      "text/plain": [
       "     LD_rus    LD_eng    JW_rus    JW_eng    RO_rus    RO_eng    DL_rus  \\\n",
       "0  0.054545  0.048387  0.733333  0.733333  0.400000  0.333333  1.000000   \n",
       "1  0.090909  0.080645  0.597222  0.597222  0.222222  0.222222  1.000000   \n",
       "2  0.127273  0.112903  0.629630  0.629630  0.333333  0.333333  1.000000   \n",
       "3  0.090909  0.080645  0.650794  0.650794  0.400000  0.400000  0.888889   \n",
       "4  0.072727  0.064516  0.611111  0.611111  0.400000  0.400000  0.857143   \n",
       "\n",
       "     DL_eng    TG_rus    TG_eng    BG_rus    BG_eng    CS_eng  \n",
       "0  0.909091  0.043478  0.041667  0.076923  0.076923  0.490041  \n",
       "1  1.000000  0.000000  0.000000  0.000000  0.000000  0.550131  \n",
       "2  1.000000  0.066667  0.066667  0.076923  0.076923  0.486147  \n",
       "3  0.888889  0.000000  0.000000  0.000000  0.000000  0.426105  \n",
       "4  0.857143  0.166667  0.166667  0.200000  0.200000  0.648827  "
      ]
     },
     "execution_count": 5,
     "metadata": {},
     "output_type": "execute_result"
    }
   ],
   "source": [
    "all_test.head()"
   ]
  },
  {
   "cell_type": "code",
   "execution_count": 8,
   "metadata": {
    "colab": {},
    "colab_type": "code",
    "id": "eTdYwhglPRoq"
   },
   "outputs": [],
   "source": [
    "clf = load('rf_kontur.joblib')"
   ]
  },
  {
   "cell_type": "code",
   "execution_count": 9,
   "metadata": {
    "colab": {},
    "colab_type": "code",
    "id": "8eg9AndKPRl6"
   },
   "outputs": [],
   "source": [
    "pred = clf.predict(all_test)"
   ]
  },
  {
   "cell_type": "code",
   "execution_count": 10,
   "metadata": {
    "colab": {
     "base_uri": "https://localhost:8080/",
     "height": 197
    },
    "colab_type": "code",
    "id": "vGxHV3nFTfRi",
    "outputId": "52e4a518-ad43-4d87-cc31-9de92cd51662"
   },
   "outputs": [
    {
     "data": {
      "text/html": [
       "<div>\n",
       "<style scoped>\n",
       "    .dataframe tbody tr th:only-of-type {\n",
       "        vertical-align: middle;\n",
       "    }\n",
       "\n",
       "    .dataframe tbody tr th {\n",
       "        vertical-align: top;\n",
       "    }\n",
       "\n",
       "    .dataframe thead th {\n",
       "        text-align: right;\n",
       "    }\n",
       "</style>\n",
       "<table border=\"1\" class=\"dataframe\">\n",
       "  <thead>\n",
       "    <tr style=\"text-align: right;\">\n",
       "      <th></th>\n",
       "      <th>answer</th>\n",
       "    </tr>\n",
       "  </thead>\n",
       "  <tbody>\n",
       "    <tr>\n",
       "      <th>0</th>\n",
       "      <td>False</td>\n",
       "    </tr>\n",
       "    <tr>\n",
       "      <th>1</th>\n",
       "      <td>False</td>\n",
       "    </tr>\n",
       "    <tr>\n",
       "      <th>2</th>\n",
       "      <td>False</td>\n",
       "    </tr>\n",
       "    <tr>\n",
       "      <th>3</th>\n",
       "      <td>False</td>\n",
       "    </tr>\n",
       "    <tr>\n",
       "      <th>4</th>\n",
       "      <td>False</td>\n",
       "    </tr>\n",
       "  </tbody>\n",
       "</table>\n",
       "</div>"
      ],
      "text/plain": [
       "   answer\n",
       "0   False\n",
       "1   False\n",
       "2   False\n",
       "3   False\n",
       "4   False"
      ]
     },
     "execution_count": 10,
     "metadata": {},
     "output_type": "execute_result"
    }
   ],
   "source": [
    "result = pd.DataFrame([True if i==1 else False for i in pred], columns=['answer'])\n",
    "result.head()"
   ]
  },
  {
   "cell_type": "code",
   "execution_count": 12,
   "metadata": {
    "colab": {},
    "colab_type": "code",
    "id": "Ai_XFd4FOShZ"
   },
   "outputs": [],
   "source": [
    "result.to_csv('result.tsv',sep='\\t', index=False)"
   ]
  }
 ],
 "metadata": {
  "colab": {
   "name": "Test inference",
   "provenance": []
  },
  "kernelspec": {
   "display_name": "Python 3",
   "language": "python",
   "name": "python3"
  },
  "language_info": {
   "codemirror_mode": {
    "name": "ipython",
    "version": 3
   },
   "file_extension": ".py",
   "mimetype": "text/x-python",
   "name": "python",
   "nbconvert_exporter": "python",
   "pygments_lexer": "ipython3",
   "version": "3.6.9"
  }
 },
 "nbformat": 4,
 "nbformat_minor": 1
}
